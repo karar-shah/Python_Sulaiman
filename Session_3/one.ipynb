{
 "cells": [
  {
   "cell_type": "markdown",
   "metadata": {},
   "source": [
    "# Fancy index"
   ]
  },
  {
   "cell_type": "code",
   "execution_count": 1,
   "metadata": {},
   "outputs": [],
   "source": [
    "import numpy as np"
   ]
  },
  {
   "cell_type": "code",
   "execution_count": 2,
   "metadata": {},
   "outputs": [
    {
     "name": "stdout",
     "output_type": "stream",
     "text": [
      "2 (8, 4)\n"
     ]
    },
    {
     "data": {
      "text/plain": [
       "array([[0.53959134, 0.48309019, 0.84580361, 0.51437164],\n",
       "       [0.73404526, 0.22978551, 0.95890161, 0.09302189],\n",
       "       [0.37162566, 0.12173777, 0.67998804, 0.86400432],\n",
       "       [0.9377585 , 0.2170588 , 0.24539811, 0.48183648],\n",
       "       [0.38880265, 0.30400767, 0.79310923, 0.39455708],\n",
       "       [0.81200684, 0.25337494, 0.55761543, 0.70491976],\n",
       "       [0.77490484, 0.84554295, 0.94546082, 0.53186913],\n",
       "       [0.45240499, 0.62961523, 0.96096606, 0.33489866]])"
      ]
     },
     "execution_count": 2,
     "metadata": {},
     "output_type": "execute_result"
    }
   ],
   "source": [
    "arr = np.random.random((8, 4))\n",
    "print(arr.ndim, arr.shape)\n",
    "arr\n"
   ]
  },
  {
   "cell_type": "code",
   "execution_count": 3,
   "metadata": {},
   "outputs": [
    {
     "data": {
      "text/plain": [
       "[0, -1]"
      ]
     },
     "execution_count": 3,
     "metadata": {},
     "output_type": "execute_result"
    }
   ],
   "source": [
    "[0,-1]\n"
   ]
  },
  {
   "cell_type": "code",
   "execution_count": 4,
   "metadata": {},
   "outputs": [
    {
     "data": {
      "text/plain": [
       "array([0.53959134, 0.51437164])"
      ]
     },
     "execution_count": 4,
     "metadata": {},
     "output_type": "execute_result"
    }
   ],
   "source": [
    "arr[0][[0,-1]]\n"
   ]
  },
  {
   "cell_type": "code",
   "execution_count": 5,
   "metadata": {},
   "outputs": [
    {
     "data": {
      "text/plain": [
       "array([[-0.38880265, -0.30400767, -0.79310923, -0.39455708],\n",
       "       [-0.77490484, -0.84554295, -0.94546082, -0.53186913],\n",
       "       [-0.73404526, -0.22978551, -0.95890161, -0.09302189]])"
      ]
     },
     "execution_count": 5,
     "metadata": {},
     "output_type": "execute_result"
    }
   ],
   "source": [
    "-arr[[4,6,1]]"
   ]
  },
  {
   "cell_type": "markdown",
   "metadata": {},
   "source": [
    "# reshpae"
   ]
  },
  {
   "cell_type": "code",
   "execution_count": 6,
   "metadata": {},
   "outputs": [
    {
     "data": {
      "text/plain": [
       "array([[0.53959134, 0.48309019, 0.84580361, 0.51437164],\n",
       "       [0.73404526, 0.22978551, 0.95890161, 0.09302189],\n",
       "       [0.37162566, 0.12173777, 0.67998804, 0.86400432],\n",
       "       [0.9377585 , 0.2170588 , 0.24539811, 0.48183648],\n",
       "       [0.38880265, 0.30400767, 0.79310923, 0.39455708],\n",
       "       [0.81200684, 0.25337494, 0.55761543, 0.70491976],\n",
       "       [0.77490484, 0.84554295, 0.94546082, 0.53186913],\n",
       "       [0.45240499, 0.62961523, 0.96096606, 0.33489866]])"
      ]
     },
     "execution_count": 6,
     "metadata": {},
     "output_type": "execute_result"
    }
   ],
   "source": [
    "arr\n"
   ]
  },
  {
   "cell_type": "code",
   "execution_count": 7,
   "metadata": {},
   "outputs": [
    {
     "data": {
      "text/plain": [
       "(8, 4)"
      ]
     },
     "execution_count": 7,
     "metadata": {},
     "output_type": "execute_result"
    }
   ],
   "source": [
    "arr.shape\n"
   ]
  },
  {
   "cell_type": "code",
   "execution_count": 8,
   "metadata": {},
   "outputs": [
    {
     "data": {
      "text/plain": [
       "32"
      ]
     },
     "execution_count": 8,
     "metadata": {},
     "output_type": "execute_result"
    }
   ],
   "source": [
    "8*4\n"
   ]
  },
  {
   "cell_type": "code",
   "execution_count": 9,
   "metadata": {},
   "outputs": [
    {
     "data": {
      "text/plain": [
       "36"
      ]
     },
     "execution_count": 9,
     "metadata": {},
     "output_type": "execute_result"
    }
   ],
   "source": [
    "6*6\n"
   ]
  },
  {
   "cell_type": "code",
   "execution_count": 10,
   "metadata": {},
   "outputs": [
    {
     "data": {
      "text/plain": [
       "32"
      ]
     },
     "execution_count": 10,
     "metadata": {},
     "output_type": "execute_result"
    }
   ],
   "source": [
    "2*4*4\n"
   ]
  },
  {
   "cell_type": "code",
   "execution_count": 11,
   "metadata": {},
   "outputs": [
    {
     "data": {
      "text/plain": [
       "array([[ 0,  1,  2,  3],\n",
       "       [ 4,  5,  6,  7],\n",
       "       [ 8,  9, 10, 11],\n",
       "       [12, 13, 14, 15],\n",
       "       [16, 17, 18, 19],\n",
       "       [20, 21, 22, 23],\n",
       "       [24, 25, 26, 27],\n",
       "       [28, 29, 30, 31]])"
      ]
     },
     "execution_count": 11,
     "metadata": {},
     "output_type": "execute_result"
    }
   ],
   "source": [
    "arr1 = np.arange(32).reshape((8, 4))\n",
    "arr1\n"
   ]
  },
  {
   "cell_type": "code",
   "execution_count": 12,
   "metadata": {},
   "outputs": [
    {
     "data": {
      "text/plain": [
       "array([[0.53959134, 0.48309019, 0.84580361, 0.51437164],\n",
       "       [0.73404526, 0.22978551, 0.95890161, 0.09302189],\n",
       "       [0.37162566, 0.12173777, 0.67998804, 0.86400432],\n",
       "       [0.9377585 , 0.2170588 , 0.24539811, 0.48183648],\n",
       "       [0.38880265, 0.30400767, 0.79310923, 0.39455708],\n",
       "       [0.81200684, 0.25337494, 0.55761543, 0.70491976],\n",
       "       [0.77490484, 0.84554295, 0.94546082, 0.53186913],\n",
       "       [0.45240499, 0.62961523, 0.96096606, 0.33489866]])"
      ]
     },
     "execution_count": 12,
     "metadata": {},
     "output_type": "execute_result"
    }
   ],
   "source": [
    "arr1 = arr.reshape((8,4))\n",
    "arr1\n"
   ]
  },
  {
   "cell_type": "code",
   "execution_count": 13,
   "metadata": {},
   "outputs": [
    {
     "data": {
      "text/plain": [
       "(8, 4)"
      ]
     },
     "execution_count": 13,
     "metadata": {},
     "output_type": "execute_result"
    }
   ],
   "source": [
    "arr1.shape\n"
   ]
  },
  {
   "cell_type": "code",
   "execution_count": 14,
   "metadata": {},
   "outputs": [
    {
     "data": {
      "text/plain": [
       "array([[0.73404526, 0.22978551, 0.95890161, 0.09302189],\n",
       "       [0.81200684, 0.25337494, 0.55761543, 0.70491976],\n",
       "       [0.45240499, 0.62961523, 0.96096606, 0.33489866],\n",
       "       [0.38880265, 0.30400767, 0.79310923, 0.39455708]])"
      ]
     },
     "execution_count": 14,
     "metadata": {},
     "output_type": "execute_result"
    }
   ],
   "source": [
    "arr1[[1,5,7,4]]\n"
   ]
  },
  {
   "cell_type": "code",
   "execution_count": 15,
   "metadata": {},
   "outputs": [
    {
     "data": {
      "text/plain": [
       "array([0.73404526, 0.70491976, 0.96096606, 0.39455708])"
      ]
     },
     "execution_count": 15,
     "metadata": {},
     "output_type": "execute_result"
    }
   ],
   "source": [
    "arr1[[1,5,7,4], [0,-1,2,3]]\n"
   ]
  },
  {
   "cell_type": "code",
   "execution_count": 16,
   "metadata": {},
   "outputs": [
    {
     "data": {
      "text/plain": [
       "array([[0.73404526, 0.22978551, 0.95890161, 0.09302189],\n",
       "       [0.81200684, 0.25337494, 0.55761543, 0.70491976],\n",
       "       [0.45240499, 0.62961523, 0.96096606, 0.33489866],\n",
       "       [0.37162566, 0.12173777, 0.67998804, 0.86400432]])"
      ]
     },
     "execution_count": 16,
     "metadata": {},
     "output_type": "execute_result"
    }
   ],
   "source": [
    "arr1[[1, 5, 7, 2]]\n"
   ]
  },
  {
   "cell_type": "code",
   "execution_count": 17,
   "metadata": {},
   "outputs": [
    {
     "data": {
      "text/plain": [
       "array([[0.73404526, 0.22978551, 0.95890161, 0.09302189],\n",
       "       [0.81200684, 0.25337494, 0.55761543, 0.70491976],\n",
       "       [0.45240499, 0.62961523, 0.96096606, 0.33489866],\n",
       "       [0.37162566, 0.12173777, 0.67998804, 0.86400432]])"
      ]
     },
     "execution_count": 17,
     "metadata": {},
     "output_type": "execute_result"
    }
   ],
   "source": [
    "\n",
    "b = arr1[[1, 5, 7, 2]]\n",
    "b\n"
   ]
  },
  {
   "cell_type": "code",
   "execution_count": 18,
   "metadata": {},
   "outputs": [
    {
     "data": {
      "text/plain": [
       "array([[0.73404526, 0.09302189, 0.22978551, 0.95890161],\n",
       "       [0.81200684, 0.70491976, 0.25337494, 0.55761543],\n",
       "       [0.45240499, 0.33489866, 0.62961523, 0.96096606],\n",
       "       [0.37162566, 0.86400432, 0.12173777, 0.67998804]])"
      ]
     },
     "execution_count": 18,
     "metadata": {},
     "output_type": "execute_result"
    }
   ],
   "source": [
    "b[:, [0, 3, 1, 2]]\n"
   ]
  },
  {
   "cell_type": "code",
   "execution_count": 19,
   "metadata": {},
   "outputs": [
    {
     "data": {
      "text/plain": [
       "array([[0.53959134, 0.48309019, 0.84580361, 0.51437164],\n",
       "       [0.73404526, 0.22978551, 0.95890161, 0.09302189],\n",
       "       [0.37162566, 0.12173777, 0.67998804, 0.86400432],\n",
       "       [0.9377585 , 0.2170588 , 0.24539811, 0.48183648],\n",
       "       [0.38880265, 0.30400767, 0.79310923, 0.39455708],\n",
       "       [0.81200684, 0.25337494, 0.55761543, 0.70491976],\n",
       "       [0.77490484, 0.84554295, 0.94546082, 0.53186913],\n",
       "       [0.45240499, 0.62961523, 0.96096606, 0.33489866]])"
      ]
     },
     "execution_count": 19,
     "metadata": {},
     "output_type": "execute_result"
    }
   ],
   "source": [
    "arr\n"
   ]
  },
  {
   "cell_type": "code",
   "execution_count": 20,
   "metadata": {},
   "outputs": [
    {
     "data": {
      "text/plain": [
       "array([[0.53959134, 0.73404526, 0.37162566, 0.9377585 , 0.38880265,\n",
       "        0.81200684, 0.77490484, 0.45240499],\n",
       "       [0.48309019, 0.22978551, 0.12173777, 0.2170588 , 0.30400767,\n",
       "        0.25337494, 0.84554295, 0.62961523],\n",
       "       [0.84580361, 0.95890161, 0.67998804, 0.24539811, 0.79310923,\n",
       "        0.55761543, 0.94546082, 0.96096606],\n",
       "       [0.51437164, 0.09302189, 0.86400432, 0.48183648, 0.39455708,\n",
       "        0.70491976, 0.53186913, 0.33489866]])"
      ]
     },
     "execution_count": 20,
     "metadata": {},
     "output_type": "execute_result"
    }
   ],
   "source": [
    "arr.T\n"
   ]
  },
  {
   "cell_type": "code",
   "execution_count": 21,
   "metadata": {},
   "outputs": [
    {
     "data": {
      "text/plain": [
       "0.9589016137107703"
      ]
     },
     "execution_count": 21,
     "metadata": {},
     "output_type": "execute_result"
    }
   ],
   "source": [
    "\n",
    "arr1[1][2]\n"
   ]
  },
  {
   "cell_type": "code",
   "execution_count": 22,
   "metadata": {},
   "outputs": [
    {
     "data": {
      "text/plain": [
       "((8, 4), (8, 4))"
      ]
     },
     "execution_count": 22,
     "metadata": {},
     "output_type": "execute_result"
    }
   ],
   "source": [
    "arr.shape, arr1.shape\n"
   ]
  },
  {
   "cell_type": "markdown",
   "metadata": {},
   "source": [
    "\n",
    "# Transpose\n"
   ]
  },
  {
   "cell_type": "code",
   "execution_count": 23,
   "metadata": {},
   "outputs": [
    {
     "data": {
      "text/plain": [
       "array([[[ 0,  1,  2,  3],\n",
       "        [ 4,  5,  6,  7]],\n",
       "\n",
       "       [[ 8,  9, 10, 11],\n",
       "        [12, 13, 14, 15]]])"
      ]
     },
     "execution_count": 23,
     "metadata": {},
     "output_type": "execute_result"
    }
   ],
   "source": [
    "\n",
    "arr = np.arange(16).reshape((2, 2, 4))\n",
    "arr\n"
   ]
  },
  {
   "cell_type": "code",
   "execution_count": 24,
   "metadata": {},
   "outputs": [
    {
     "data": {
      "text/plain": [
       "(2, 2, 4)"
      ]
     },
     "execution_count": 24,
     "metadata": {},
     "output_type": "execute_result"
    }
   ],
   "source": [
    "arr.shape\n"
   ]
  },
  {
   "cell_type": "code",
   "execution_count": 25,
   "metadata": {},
   "outputs": [
    {
     "data": {
      "text/plain": [
       "array([[[ 0,  8],\n",
       "        [ 4, 12]],\n",
       "\n",
       "       [[ 1,  9],\n",
       "        [ 5, 13]],\n",
       "\n",
       "       [[ 2, 10],\n",
       "        [ 6, 14]],\n",
       "\n",
       "       [[ 3, 11],\n",
       "        [ 7, 15]]])"
      ]
     },
     "execution_count": 25,
     "metadata": {},
     "output_type": "execute_result"
    }
   ],
   "source": [
    "arr.T\n"
   ]
  },
  {
   "cell_type": "code",
   "execution_count": 26,
   "metadata": {},
   "outputs": [
    {
     "data": {
      "text/plain": [
       "array([[-0.71340536, -0.71993102,  0.47660757, -1.46107968, -0.47278209],\n",
       "       [-0.42179908, -1.1195505 ,  1.22254494, -0.08420256, -0.01704719],\n",
       "       [-0.75256121, -0.05331416,  1.73692058, -0.33686398, -0.30949002],\n",
       "       [ 0.45485162, -0.85979042, -0.11417968, -1.65463497,  0.53559512]])"
      ]
     },
     "execution_count": 26,
     "metadata": {},
     "output_type": "execute_result"
    }
   ],
   "source": [
    "a = np.random.randn(4,5)\n",
    "a\n"
   ]
  },
  {
   "cell_type": "code",
   "execution_count": 27,
   "metadata": {},
   "outputs": [
    {
     "data": {
      "text/plain": [
       "array([[ True, False, False, False, False],\n",
       "       [ True, False, False, False, False],\n",
       "       [ True, False, False, False, False],\n",
       "       [False, False, False, False, False]])"
      ]
     },
     "execution_count": 27,
     "metadata": {},
     "output_type": "execute_result"
    }
   ],
   "source": [
    "a[0][0] = np.nan\n",
    "a[1][0] = np.nan\n",
    "a[2][0] = np.nan\n",
    "np.isnan(a)\n"
   ]
  },
  {
   "cell_type": "code",
   "execution_count": 28,
   "metadata": {},
   "outputs": [
    {
     "data": {
      "text/plain": [
       "array([[ True, False, False, False, False],\n",
       "       [ True, False, False, False, False],\n",
       "       [ True, False, False, False, False],\n",
       "       [False, False, False, False, False]])"
      ]
     },
     "execution_count": 28,
     "metadata": {},
     "output_type": "execute_result"
    }
   ],
   "source": [
    "cond = np.isnan(a)\n",
    "cond\n"
   ]
  },
  {
   "cell_type": "code",
   "execution_count": 29,
   "metadata": {},
   "outputs": [
    {
     "name": "stderr",
     "output_type": "stream",
     "text": [
      "C:\\Users\\Karar\\AppData\\Local\\Temp\\ipykernel_3156\\3381902353.py:1: RuntimeWarning: invalid value encountered in floor_divide\n",
      "  np.floor_divide(a,3)\n"
     ]
    },
    {
     "data": {
      "text/plain": [
       "array([[nan, -1.,  0., -1., -1.],\n",
       "       [nan, -1.,  0., -1., -1.],\n",
       "       [nan, -1.,  0., -1., -1.],\n",
       "       [ 0., -1., -1., -1.,  0.]])"
      ]
     },
     "execution_count": 29,
     "metadata": {},
     "output_type": "execute_result"
    }
   ],
   "source": [
    "np.floor_divide(a,3)\n"
   ]
  },
  {
   "cell_type": "code",
   "execution_count": 30,
   "metadata": {},
   "outputs": [
    {
     "data": {
      "text/plain": [
       "array([[           nan, 5.18300669e-01, 2.27154771e-01, 2.13475384e+00,\n",
       "        2.23522902e-01],\n",
       "       [           nan, 1.25339332e+00, 1.49461614e+00, 7.09007170e-03,\n",
       "        2.90606724e-04],\n",
       "       [           nan, 2.84239943e-03, 3.01689309e+00, 1.13477341e-01,\n",
       "        9.57840751e-02],\n",
       "       [2.06889996e-01, 7.39239561e-01, 1.30369987e-02, 2.73781688e+00,\n",
       "        2.86862135e-01]])"
      ]
     },
     "execution_count": 30,
     "metadata": {},
     "output_type": "execute_result"
    }
   ],
   "source": [
    "np.power(a,2)\n"
   ]
  },
  {
   "cell_type": "code",
   "execution_count": 31,
   "metadata": {},
   "outputs": [
    {
     "data": {
      "text/plain": [
       "array([[        nan, -0.23997701,  0.15886919, -0.48702656, -0.15759403],\n",
       "       [        nan, -0.3731835 ,  0.40751498, -0.02806752, -0.0056824 ],\n",
       "       [        nan, -0.01777139,  0.57897353, -0.11228799, -0.10316334],\n",
       "       [ 0.15161721, -0.28659681, -0.03805989, -0.55154499,  0.17853171]])"
      ]
     },
     "execution_count": 31,
     "metadata": {},
     "output_type": "execute_result"
    }
   ],
   "source": [
    "np.divide(a,3)\n"
   ]
  },
  {
   "cell_type": "code",
   "execution_count": 32,
   "metadata": {},
   "outputs": [
    {
     "data": {
      "text/plain": [
       "array([[nan, -1.,  1., -1., -1.],\n",
       "       [nan, -1.,  1., -1., -1.],\n",
       "       [nan, -1.,  1., -1., -1.],\n",
       "       [ 1., -1., -1., -1.,  1.]])"
      ]
     },
     "execution_count": 32,
     "metadata": {},
     "output_type": "execute_result"
    }
   ],
   "source": [
    "np.sign(a)\n"
   ]
  },
  {
   "cell_type": "markdown",
   "metadata": {},
   "source": [
    "# gridmesh\n"
   ]
  },
  {
   "cell_type": "code",
   "execution_count": 33,
   "metadata": {},
   "outputs": [
    {
     "data": {
      "text/plain": [
       "(1000,)"
      ]
     },
     "execution_count": 33,
     "metadata": {},
     "output_type": "execute_result"
    }
   ],
   "source": [
    "points = np.arange(-5, 5, 0.01)\n",
    "points.shape\n"
   ]
  },
  {
   "cell_type": "code",
   "execution_count": 34,
   "metadata": {},
   "outputs": [
    {
     "data": {
      "text/plain": [
       "((1000, 1000), ':', (1000, 1000))"
      ]
     },
     "execution_count": 34,
     "metadata": {},
     "output_type": "execute_result"
    }
   ],
   "source": [
    "xs, ys = np.meshgrid(points, points)\n",
    "xs.shape, ':', ys.shape\n"
   ]
  },
  {
   "cell_type": "code",
   "execution_count": 35,
   "metadata": {},
   "outputs": [
    {
     "data": {
      "text/plain": [
       "array([3.2, 3.4, 3.6, 3.8, 4. ])"
      ]
     },
     "execution_count": 35,
     "metadata": {},
     "output_type": "execute_result"
    }
   ],
   "source": [
    "xarr = np.array([1.1, 1.2, 1.3, 1.4, 1.5])\n",
    "yarr = np.array([2.1, 2.2, 2.3, 2.4, 2.5])\n",
    "\n",
    "cond = np.array([True, False, True, True, False])\n",
    "\n",
    "xarr +yarr\n"
   ]
  },
  {
   "attachments": {},
   "cell_type": "markdown",
   "metadata": {},
   "source": [
    "# List comprehension"
   ]
  },
  {
   "cell_type": "code",
   "execution_count": 36,
   "metadata": {},
   "outputs": [
    {
     "name": "stdout",
     "output_type": "stream",
     "text": [
      "3.2\n",
      "3.4000000000000004\n",
      "3.5999999999999996\n",
      "3.8\n",
      "4.0\n"
     ]
    }
   ],
   "source": [
    "for x,y in zip(xarr, yarr):\n",
    "    print(x+y)\n"
   ]
  },
  {
   "cell_type": "code",
   "execution_count": 37,
   "metadata": {},
   "outputs": [
    {
     "name": "stdout",
     "output_type": "stream",
     "text": [
      "outer 1.1\n",
      "inner 1.1 2.1\n",
      "inner 1.1 2.2\n",
      "inner 1.1 2.3\n",
      "inner 1.1 2.4\n",
      "inner 1.1 2.5\n",
      "outer 1.2\n",
      "inner 1.2 2.1\n",
      "inner 1.2 2.2\n",
      "inner 1.2 2.3\n",
      "inner 1.2 2.4\n",
      "inner 1.2 2.5\n",
      "outer 1.3\n",
      "inner 1.3 2.1\n",
      "inner 1.3 2.2\n",
      "inner 1.3 2.3\n",
      "inner 1.3 2.4\n",
      "inner 1.3 2.5\n",
      "outer 1.4\n",
      "inner 1.4 2.1\n",
      "inner 1.4 2.2\n",
      "inner 1.4 2.3\n",
      "inner 1.4 2.4\n",
      "inner 1.4 2.5\n",
      "outer 1.5\n",
      "inner 1.5 2.1\n",
      "inner 1.5 2.2\n",
      "inner 1.5 2.3\n",
      "inner 1.5 2.4\n",
      "inner 1.5 2.5\n"
     ]
    }
   ],
   "source": [
    "for x in xarr:\n",
    "    print('outer',x)\n",
    "    for y in yarr:\n",
    "        print('inner',x,y)\n",
    "\n"
   ]
  },
  {
   "cell_type": "code",
   "execution_count": 38,
   "metadata": {},
   "outputs": [
    {
     "name": "stdout",
     "output_type": "stream",
     "text": [
      "(1.1, 2.1, True)\n",
      "(1.2, 2.2, False)\n",
      "(1.3, 2.3, True)\n",
      "(1.4, 2.4, True)\n",
      "(1.5, 2.5, False)\n"
     ]
    }
   ],
   "source": [
    "\n",
    "for x in zip(xarr, yarr, cond):\n",
    "    print(x)\n",
    "a = []\n"
   ]
  },
  {
   "cell_type": "code",
   "execution_count": 39,
   "metadata": {},
   "outputs": [
    {
     "data": {
      "text/plain": [
       "[6, 7, 8, 9]"
      ]
     },
     "execution_count": 39,
     "metadata": {},
     "output_type": "execute_result"
    }
   ],
   "source": [
    "\n",
    "for i in range(10):\n",
    "    if i > 5:\n",
    "        a.append(i)\n",
    "a\n"
   ]
  },
  {
   "cell_type": "code",
   "execution_count": 40,
   "metadata": {},
   "outputs": [
    {
     "data": {
      "text/plain": [
       "array([1.1, 1.2, 1.3, 1.4, 1.5])"
      ]
     },
     "execution_count": 40,
     "metadata": {},
     "output_type": "execute_result"
    }
   ],
   "source": [
    "[i if i>5 else 0 for i in range(10)] ## this is actual list compreh\n",
    "xarr\n"
   ]
  },
  {
   "cell_type": "code",
   "execution_count": 41,
   "metadata": {},
   "outputs": [
    {
     "data": {
      "text/plain": [
       "array([100, 100,   0,   0,   0])"
      ]
     },
     "execution_count": 41,
     "metadata": {},
     "output_type": "execute_result"
    }
   ],
   "source": [
    "\n",
    "np.where(xarr>1.2, 0, 100)\n"
   ]
  },
  {
   "cell_type": "code",
   "execution_count": 42,
   "metadata": {},
   "outputs": [
    {
     "data": {
      "text/plain": [
       "array([1.1, 2.2, 1.3, 1.4, 2.5])"
      ]
     },
     "execution_count": 42,
     "metadata": {},
     "output_type": "execute_result"
    }
   ],
   "source": [
    "np.where(cond, xarr, yarr)\n"
   ]
  },
  {
   "cell_type": "code",
   "execution_count": 43,
   "metadata": {},
   "outputs": [
    {
     "data": {
      "text/plain": [
       "array([[-0.87787646,  0.2524861 , -0.15809364, -0.72941295],\n",
       "       [ 0.04082421,  0.26460293, -0.35953481, -1.11022668],\n",
       "       [-1.11048056,  1.21985416,  0.12576449, -0.41061878],\n",
       "       [-0.37111871, -0.82480883,  0.97304127, -0.26317173]])"
      ]
     },
     "execution_count": 43,
     "metadata": {},
     "output_type": "execute_result"
    }
   ],
   "source": [
    "arr = np.random.randn(4, 4)\n",
    "arr\n"
   ]
  },
  {
   "cell_type": "code",
   "execution_count": 44,
   "metadata": {},
   "outputs": [
    {
     "data": {
      "text/plain": [
       "10"
      ]
     },
     "execution_count": 44,
     "metadata": {},
     "output_type": "execute_result"
    }
   ],
   "source": [
    "(arr <0).sum()\n"
   ]
  },
  {
   "cell_type": "code",
   "execution_count": 45,
   "metadata": {},
   "outputs": [
    {
     "data": {
      "text/plain": [
       "array([[ True, False,  True,  True],\n",
       "       [False, False,  True,  True],\n",
       "       [ True, False, False,  True],\n",
       "       [ True,  True, False,  True]])"
      ]
     },
     "execution_count": 45,
     "metadata": {},
     "output_type": "execute_result"
    }
   ],
   "source": [
    "cond = arr < 0\n",
    "cond\n"
   ]
  },
  {
   "cell_type": "code",
   "execution_count": 46,
   "metadata": {},
   "outputs": [
    {
     "data": {
      "text/plain": [
       "array([[0.        , 0.2524861 , 0.        , 0.        ],\n",
       "       [0.04082421, 0.26460293, 0.        , 0.        ],\n",
       "       [0.        , 1.21985416, 0.12576449, 0.        ],\n",
       "       [0.        , 0.        , 0.97304127, 0.        ]])"
      ]
     },
     "execution_count": 46,
     "metadata": {},
     "output_type": "execute_result"
    }
   ],
   "source": [
    "np.where(arr < 0,\n",
    "        0,\n",
    "        arr)\n"
   ]
  },
  {
   "cell_type": "code",
   "execution_count": 47,
   "metadata": {},
   "outputs": [
    {
     "data": {
      "text/plain": [
       "array(['Bob', 'Joe', 'Will'], dtype='<U4')"
      ]
     },
     "execution_count": 47,
     "metadata": {},
     "output_type": "execute_result"
    }
   ],
   "source": [
    "names = np.array(['Bob', 'Joe', 'Will', 'Bob', 'Will', 'Joe', 'Joe'])\n",
    "np.unique(names)\n"
   ]
  },
  {
   "cell_type": "code",
   "execution_count": 51,
   "metadata": {},
   "outputs": [
    {
     "data": {
      "text/plain": [
       "[6, 7, 8, 9]"
      ]
     },
     "execution_count": 51,
     "metadata": {},
     "output_type": "execute_result"
    }
   ],
   "source": [
    "{1,2,3,1,2,3,1,2,3}\n",
    "a\n"
   ]
  },
  {
   "cell_type": "code",
   "execution_count": 49,
   "metadata": {},
   "outputs": [
    {
     "data": {
      "text/plain": [
       "array([6, 7, 8, 9])"
      ]
     },
     "execution_count": 49,
     "metadata": {},
     "output_type": "execute_result"
    }
   ],
   "source": [
    "np.save('myfile',a)\n",
    "np.load('myfile.npy')\n"
   ]
  },
  {
   "cell_type": "markdown",
   "metadata": {},
   "source": [
    "# ML\n"
   ]
  },
  {
   "cell_type": "code",
   "execution_count": 53,
   "metadata": {},
   "outputs": [],
   "source": [
    "a =  np.array(a)"
   ]
  },
  {
   "cell_type": "code",
   "execution_count": 54,
   "metadata": {},
   "outputs": [
    {
     "data": {
      "text/plain": [
       "array([36, 49, 64, 81])"
      ]
     },
     "execution_count": 54,
     "metadata": {},
     "output_type": "execute_result"
    }
   ],
   "source": [
    "a*a\n"
   ]
  },
  {
   "cell_type": "code",
   "execution_count": 55,
   "metadata": {},
   "outputs": [
    {
     "data": {
      "text/plain": [
       "array([6, 7, 8, 9])"
      ]
     },
     "execution_count": 55,
     "metadata": {},
     "output_type": "execute_result"
    }
   ],
   "source": [
    "a\n"
   ]
  },
  {
   "cell_type": "code",
   "execution_count": 56,
   "metadata": {},
   "outputs": [
    {
     "data": {
      "text/plain": [
       "array([8, 6, 9, 7])"
      ]
     },
     "execution_count": 56,
     "metadata": {},
     "output_type": "execute_result"
    }
   ],
   "source": [
    "np.random.shuffle(a)\n",
    "a\n"
   ]
  },
  {
   "cell_type": "code",
   "execution_count": 57,
   "metadata": {},
   "outputs": [
    {
     "data": {
      "text/plain": [
       "array([8, 6, 9, 7])"
      ]
     },
     "execution_count": 57,
     "metadata": {},
     "output_type": "execute_result"
    }
   ],
   "source": [
    "np.abs(a)\n"
   ]
  },
  {
   "cell_type": "code",
   "execution_count": null,
   "metadata": {},
   "outputs": [],
   "source": [
    "a = [1,2,3,4,5,6,7,8,9]\n",
    "\n",
    "\n"
   ]
  }
 ],
 "metadata": {
  "kernelspec": {
   "display_name": "base",
   "language": "python",
   "name": "python3"
  },
  "language_info": {
   "codemirror_mode": {
    "name": "ipython",
    "version": 3
   },
   "file_extension": ".py",
   "mimetype": "text/x-python",
   "name": "python",
   "nbconvert_exporter": "python",
   "pygments_lexer": "ipython3",
   "version": "3.9.12"
  },
  "orig_nbformat": 4,
  "vscode": {
   "interpreter": {
    "hash": "2bd6de4a48679b2e291a65267fea1d05377a4a1401728ce8efb4ddfe14914e09"
   }
  }
 },
 "nbformat": 4,
 "nbformat_minor": 2
}
