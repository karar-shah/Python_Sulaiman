{
 "cells": [
  {
   "attachments": {},
   "cell_type": "markdown",
   "metadata": {},
   "source": [
    "---\n",
    "# if Statements\n",
    "---"
   ]
  },
  {
   "attachments": {},
   "cell_type": "markdown",
   "metadata": {},
   "source": [
    "## <center> Try It Yourself </center>\n",
    "**5-3.** Alien Colors #1: Imagine an alien was just shot down in a game. Create a \n",
    "variable called alien_color and assign it a value of 'green', 'yellow', or 'red'.\n",
    "\n",
    "•\t Write an if statement to test whether the alien’s color is green. If it is, print \n",
    "a message that the player just earned 5 points.\\\n",
    "•\t Write one version of this program that passes the if test and another that \n",
    "fails. (The version that fails will have no output.)\n",
    "\n",
    "---"
   ]
  },
  {
   "cell_type": "code",
   "execution_count": null,
   "metadata": {},
   "outputs": [],
   "source": [
    "# code here"
   ]
  },
  {
   "cell_type": "code",
   "execution_count": null,
   "metadata": {},
   "outputs": [],
   "source": []
  },
  {
   "attachments": {},
   "cell_type": "markdown",
   "metadata": {},
   "source": [
    "\n",
    "**5-4.** Alien Colors #2: Choose a color for an alien as you did in Exercise 5-3, and \n",
    "write an if-else chain.\n",
    "\n",
    "•\t If the alien’s color is green, print a statement that the player just earned \n",
    "5 points for shooting the alien.\\\n",
    "•\t If the alien’s color isn’t green, print a statement that the player just earned \n",
    "10 points.\\\n",
    "•\t Write one version of this program that runs the if block and another that \n",
    "runs the else block.\n",
    "\n",
    "---"
   ]
  },
  {
   "cell_type": "code",
   "execution_count": null,
   "metadata": {},
   "outputs": [],
   "source": [
    "# code here"
   ]
  },
  {
   "cell_type": "code",
   "execution_count": null,
   "metadata": {},
   "outputs": [],
   "source": []
  },
  {
   "attachments": {},
   "cell_type": "markdown",
   "metadata": {},
   "source": [
    "**5-5.** Alien Colors #3: Turn your if-else chain from Exercise 5-4 into an if-elif\u0002else chain.\n",
    "\n",
    "•\t If the alien is green, print a message that the player earned 5 points.\\\n",
    "•\t If the alien is yellow, print a message that the player earned 10 points.\\\n",
    "•\t If the alien is red, print a message that the player earned 15 points.\\\n",
    "•\t Write three versions of this program, making sure each message is printed \n",
    "for the appropriate color alien.\n",
    "\n",
    "---"
   ]
  },
  {
   "cell_type": "code",
   "execution_count": null,
   "metadata": {},
   "outputs": [],
   "source": [
    "# code here"
   ]
  },
  {
   "cell_type": "code",
   "execution_count": null,
   "metadata": {},
   "outputs": [],
   "source": []
  },
  {
   "attachments": {},
   "cell_type": "markdown",
   "metadata": {},
   "source": [
    "**5-6.** Stages of Life: Write an if-elif-else chain that determines a person’s \n",
    "stage of life. Set a value for the variable age, and then:\n",
    "\n",
    "•\t If the person is less than 2 years old, print a message that the person is \n",
    "a baby.\\\n",
    "•\t If the person is at least 2 years old but less than 4, print a message that \n",
    "the person is a toddler.\\\n",
    "•\t If the person is at least 4 years old but less than 13, print a message that \n",
    "the person is a kid.\\\n",
    "•\t If the person is at least 13 years old but less than 20, print a message that \n",
    "the person is a teenager.\\\n",
    "•\t If the person is at least 20 years old but less than 65, print a message that \n",
    "the person is an adult.\\\n",
    "•\t If the person is age 65 or older, print a message that the person is an \n",
    "elder.\n",
    "\n",
    "---"
   ]
  },
  {
   "cell_type": "code",
   "execution_count": null,
   "metadata": {},
   "outputs": [],
   "source": [
    "# code here"
   ]
  },
  {
   "cell_type": "code",
   "execution_count": null,
   "metadata": {},
   "outputs": [],
   "source": []
  },
  {
   "attachments": {},
   "cell_type": "markdown",
   "metadata": {},
   "source": [
    "**5-7.** Favorite Fruit: Make a list of your favorite fruits, and then write a series of \n",
    "independent if statements that check for certain fruits in your list.\n",
    "\n",
    "•\t Make a list of your three favorite fruits and call it favorite_fruits.\\\n",
    "•\t Write five if statements. Each should check whether a certain kind of fruit \n",
    "is in your list. If the fruit is in your list, the if block should print a statement, \n",
    "such as You really like bananas!\n",
    "\n",
    "---"
   ]
  },
  {
   "cell_type": "code",
   "execution_count": null,
   "metadata": {},
   "outputs": [],
   "source": [
    "# code here"
   ]
  },
  {
   "cell_type": "code",
   "execution_count": null,
   "metadata": {},
   "outputs": [],
   "source": []
  },
  {
   "attachments": {},
   "cell_type": "markdown",
   "metadata": {},
   "source": [
    "---\n",
    "# Using if Statements with Lists\n",
    "---"
   ]
  },
  {
   "attachments": {},
   "cell_type": "markdown",
   "metadata": {},
   "source": [
    "## <center> Try It Yourself </center>\n",
    "**5-8.** Hello Admin: Make a list of five or more usernames, including the name \n",
    "'admin'. Imagine you are writing code that will print a greeting to each user \n",
    "after they log in to a website. Loop through the list, and print a greeting to \n",
    "each user:\n",
    "\n",
    "•\t If the username is 'admin', print a special greeting, such as Hello admin, \n",
    "would you like to see a status report? \\\n",
    "•\t Otherwise, print a generic greeting, such as Hello Jaden, thank you for \n",
    "logging in again.\n",
    "\n",
    "---"
   ]
  },
  {
   "cell_type": "code",
   "execution_count": null,
   "metadata": {},
   "outputs": [],
   "source": [
    "# Code here"
   ]
  },
  {
   "cell_type": "code",
   "execution_count": null,
   "metadata": {},
   "outputs": [],
   "source": []
  },
  {
   "attachments": {},
   "cell_type": "markdown",
   "metadata": {},
   "source": [
    "**5-9.** No Users: Add an if test to hello_admin.py to make sure the list of users is \n",
    "not empty.\n",
    "\n",
    "•\t If the list is empty, print the message We need to find some users!\\\n",
    "•\t Remove all of the usernames from your list, and make sure the correct \n",
    "message is printed.\n",
    "\n",
    "---"
   ]
  },
  {
   "cell_type": "code",
   "execution_count": null,
   "metadata": {},
   "outputs": [],
   "source": [
    "# code here"
   ]
  },
  {
   "cell_type": "code",
   "execution_count": null,
   "metadata": {},
   "outputs": [],
   "source": []
  },
  {
   "attachments": {},
   "cell_type": "markdown",
   "metadata": {},
   "source": [
    "**5-10.** Checking Usernames: Do the following to create a program that simulates \n",
    "how websites ensure that everyone has a unique username.\n",
    "\n",
    "•\t Make a list of five or more usernames called current_users.\\\n",
    "•\t Make another list of five usernames called new_users. Make sure one or \n",
    "two of the new usernames are also in the current_users list.\\\n",
    "•\t Loop through the new_users list to see if each new username has already \n",
    "been used. If it has, print a message that the person will need to enter a \n",
    "new username. If a username has not been used, print a message saying \n",
    "that the username is available.\\\n",
    "•\t Make sure your comparison is case insensitive. If 'John' has been used, \n",
    "'JOHN' should not be accepted. (To do this, you’ll need to make a copy of \n",
    "current_users containing the lowercase versions of all existing users.)\n",
    "\n",
    "---\n"
   ]
  },
  {
   "cell_type": "code",
   "execution_count": 1,
   "metadata": {},
   "outputs": [],
   "source": [
    "# code here"
   ]
  },
  {
   "cell_type": "code",
   "execution_count": null,
   "metadata": {},
   "outputs": [],
   "source": []
  }
 ],
 "metadata": {
  "kernelspec": {
   "display_name": "base",
   "language": "python",
   "name": "python3"
  },
  "language_info": {
   "codemirror_mode": {
    "name": "ipython",
    "version": 3
   },
   "file_extension": ".py",
   "mimetype": "text/x-python",
   "name": "python",
   "nbconvert_exporter": "python",
   "pygments_lexer": "ipython3",
   "version": "3.9.12"
  },
  "orig_nbformat": 4,
  "vscode": {
   "interpreter": {
    "hash": "2bd6de4a48679b2e291a65267fea1d05377a4a1401728ce8efb4ddfe14914e09"
   }
  }
 },
 "nbformat": 4,
 "nbformat_minor": 2
}
