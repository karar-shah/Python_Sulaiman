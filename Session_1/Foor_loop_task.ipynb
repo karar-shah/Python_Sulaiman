{
 "cells": [
  {
   "attachments": {},
   "cell_type": "markdown",
   "metadata": {},
   "source": [
    "## <center>Try It Yourself</center>\n",
    "\n",
    "**4-1.** Pizzas: Think of at least three kinds of your favorite pizza. Store these \n",
    "pizza names in a list, and then use a for loop to print the name of each pizza.\n",
    "\n",
    "•\t Modify your for loop to print a sentence using the name of the pizza \n",
    "instead of printing just the name of the pizza. For each pizza you should \n",
    "have one line of output containing a simple statement like I like pepperoni \n",
    "pizza.\\\n",
    "•\t Add a line at the end of your program, outside the for loop, that states \n",
    "how much you like pizza. The output should consist of three or more lines \n",
    "about the kinds of pizza you like and then an additional sentence, such as \n",
    "I really love pizza!\n",
    "\n",
    "---\n"
   ]
  },
  {
   "cell_type": "code",
   "execution_count": 1,
   "metadata": {},
   "outputs": [],
   "source": [
    "# code here"
   ]
  },
  {
   "cell_type": "code",
   "execution_count": null,
   "metadata": {},
   "outputs": [],
   "source": []
  },
  {
   "attachments": {},
   "cell_type": "markdown",
   "metadata": {},
   "source": [
    "\n",
    "**4-2.** Animals: Think of at least three different animals that have a common char\u0002acteristic. Store the names of these animals in a list, and then use a for loop to \n",
    "print out the name of each animal.\n",
    "\n",
    "•\t Modify your program to print a statement about each animal, such as \n",
    "A dog would make a great pet.\\\n",
    "•\t Add a line at the end of your program stating what these animals have in \n",
    "common. You could print a sentence such as Any of these animals would \n",
    "make a great pet!\n",
    "\n",
    "---\n"
   ]
  },
  {
   "cell_type": "code",
   "execution_count": 2,
   "metadata": {},
   "outputs": [],
   "source": [
    "# code here"
   ]
  },
  {
   "cell_type": "code",
   "execution_count": null,
   "metadata": {},
   "outputs": [],
   "source": []
  },
  {
   "attachments": {},
   "cell_type": "markdown",
   "metadata": {},
   "source": [
    "**4-3**. Counting to Twenty: Use a for loop to print the numbers from 1 to 20, \n",
    "inclusive.\n",
    "\n",
    "---\n"
   ]
  },
  {
   "cell_type": "code",
   "execution_count": null,
   "metadata": {},
   "outputs": [],
   "source": [
    "# code here"
   ]
  },
  {
   "cell_type": "code",
   "execution_count": null,
   "metadata": {},
   "outputs": [],
   "source": []
  },
  {
   "attachments": {},
   "cell_type": "markdown",
   "metadata": {},
   "source": [
    "**4-4**. One Million: Make a list of the numbers from one to one million, and then \n",
    "use a for loop to print the numbers. (If the output is taking too long, stop it by \n",
    "pressing ctrl-C or by closing the output window.)\n",
    "\n",
    "---\n"
   ]
  },
  {
   "cell_type": "code",
   "execution_count": null,
   "metadata": {},
   "outputs": [],
   "source": [
    "# code here"
   ]
  },
  {
   "cell_type": "code",
   "execution_count": null,
   "metadata": {},
   "outputs": [],
   "source": []
  },
  {
   "attachments": {},
   "cell_type": "markdown",
   "metadata": {},
   "source": [
    "**4-5**. Summing a Million: Make a list of the numbers from one to one million, \n",
    "and then use min() and max() to make sure your list actually starts at one and \n",
    "ends at one million. Also, use the sum() function to see how quickly Python can \n",
    "add a million numbers.\n",
    "\n",
    "---\n"
   ]
  },
  {
   "cell_type": "code",
   "execution_count": null,
   "metadata": {},
   "outputs": [],
   "source": [
    "# code here"
   ]
  },
  {
   "cell_type": "code",
   "execution_count": null,
   "metadata": {},
   "outputs": [],
   "source": []
  },
  {
   "attachments": {},
   "cell_type": "markdown",
   "metadata": {},
   "source": [
    "**4-6**. Odd Numbers: Use the third argument of the range() function to make a \n",
    "list of the odd numbers from 1 to 20. Use a for loop to print each number.\n",
    "\n",
    "---\n"
   ]
  },
  {
   "cell_type": "code",
   "execution_count": null,
   "metadata": {},
   "outputs": [],
   "source": [
    "# code here"
   ]
  },
  {
   "cell_type": "code",
   "execution_count": null,
   "metadata": {},
   "outputs": [],
   "source": []
  },
  {
   "attachments": {},
   "cell_type": "markdown",
   "metadata": {},
   "source": [
    "**4-7**. Threes: Make a list of the multiples of 3 from 3 to 30. Use a for loop to \n",
    "print the numbers in your list.\n",
    "\n",
    "---\n"
   ]
  },
  {
   "cell_type": "code",
   "execution_count": null,
   "metadata": {},
   "outputs": [],
   "source": [
    "# code here"
   ]
  },
  {
   "cell_type": "code",
   "execution_count": null,
   "metadata": {},
   "outputs": [],
   "source": []
  },
  {
   "attachments": {},
   "cell_type": "markdown",
   "metadata": {},
   "source": [
    "**4-8**. Cubes: A number raised to the third power is called a cube. For example, \n",
    "the cube of 2 is written as 2**3 in Python. Make a list of the first 10 cubes (that \n",
    "is, the cube of each integer from 1 through 10), and use a for loop to print out \n",
    "the value of each cube.\n",
    "\n",
    "---\n"
   ]
  },
  {
   "cell_type": "code",
   "execution_count": null,
   "metadata": {},
   "outputs": [],
   "source": [
    "# code here"
   ]
  },
  {
   "cell_type": "code",
   "execution_count": null,
   "metadata": {},
   "outputs": [],
   "source": []
  },
  {
   "attachments": {},
   "cell_type": "markdown",
   "metadata": {},
   "source": [
    "**4-9**. Cube Comprehension: Use a list comprehension to generate a list of the \n",
    "first 10 cubes.\n",
    "\n",
    "---\n"
   ]
  },
  {
   "cell_type": "code",
   "execution_count": 3,
   "metadata": {},
   "outputs": [],
   "source": [
    "# code here"
   ]
  },
  {
   "cell_type": "code",
   "execution_count": null,
   "metadata": {},
   "outputs": [],
   "source": []
  },
  {
   "attachments": {},
   "cell_type": "markdown",
   "metadata": {},
   "source": [
    "***4-13.** Buffet: A buffet-style restaurant offers only five basic foods. Think of five \n",
    "simple foods, and store them in a tuple.\n",
    "\n",
    "•\t Use a for loop to print each food the restaurant offers.\\\n",
    "•\t Try to modify one of the items, and make sure that Python rejects the \n",
    "change.\\\n",
    "•\t The restaurant changes its menu, replacing two of the items with different \n",
    "foods. Add a line that rewrites the tuple, and then use a for loop to print \n",
    "each of the items on the revised menu.\n",
    "\n",
    "---"
   ]
  },
  {
   "cell_type": "code",
   "execution_count": 4,
   "metadata": {},
   "outputs": [],
   "source": [
    "# code here"
   ]
  },
  {
   "cell_type": "code",
   "execution_count": null,
   "metadata": {},
   "outputs": [],
   "source": []
  }
 ],
 "metadata": {
  "kernelspec": {
   "display_name": "base",
   "language": "python",
   "name": "python3"
  },
  "language_info": {
   "codemirror_mode": {
    "name": "ipython",
    "version": 3
   },
   "file_extension": ".py",
   "mimetype": "text/x-python",
   "name": "python",
   "nbconvert_exporter": "python",
   "pygments_lexer": "ipython3",
   "version": "3.9.12 (main, Apr  4 2022, 05:22:27) [MSC v.1916 64 bit (AMD64)]"
  },
  "orig_nbformat": 4,
  "vscode": {
   "interpreter": {
    "hash": "2bd6de4a48679b2e291a65267fea1d05377a4a1401728ce8efb4ddfe14914e09"
   }
  }
 },
 "nbformat": 4,
 "nbformat_minor": 2
}
