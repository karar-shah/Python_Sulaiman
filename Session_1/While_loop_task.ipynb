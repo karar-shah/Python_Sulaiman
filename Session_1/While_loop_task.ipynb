{
 "cells": [
  {
   "attachments": {},
   "cell_type": "markdown",
   "metadata": {},
   "source": [
    "## <center> Try It Yourself </center>\n",
    "\n",
    "**7-4.** Pizza Toppings: Write a loop that prompts the user to enter a series of \n",
    "pizza toppings until they enter a 'quit' value. As they enter each topping, \n",
    "print a message saying you’ll add that topping to their pizza.\n",
    "\n",
    "---"
   ]
  },
  {
   "cell_type": "code",
   "execution_count": null,
   "metadata": {},
   "outputs": [],
   "source": [
    "# Example\n",
    "prompt = \"\\nPlease enter the name of a city you have visited:\"\n",
    "prompt += \"\\n(Enter 'quit' when you are finished.) \"\n",
    "\n",
    "while True:\n",
    "    city = input(prompt)\n",
    "\n",
    "    if city == 'quit':\n",
    "        break\n",
    "    else:\n",
    "        print(f\"I'd love to go to {city.title()}!\")"
   ]
  },
  {
   "cell_type": "code",
   "execution_count": null,
   "metadata": {},
   "outputs": [],
   "source": [
    "# Code here"
   ]
  },
  {
   "attachments": {},
   "cell_type": "markdown",
   "metadata": {},
   "source": [
    "\n",
    "**7-5.** Movie Tickets: A movie theater charges different ticket prices depending on \n",
    "a person’s age. If a person is under the age of 3, the ticket is free; if they are \n",
    "between 3 and 12, the ticket is $10; and if they are over age 12, the ticket is \n",
    "$15. Write a loop in which you ask users their age, and then tell them the cost \n",
    "of their movie ticket."
   ]
  },
  {
   "cell_type": "code",
   "execution_count": 2,
   "metadata": {},
   "outputs": [],
   "source": [
    "# code here"
   ]
  },
  {
   "cell_type": "code",
   "execution_count": null,
   "metadata": {},
   "outputs": [],
   "source": []
  },
  {
   "attachments": {},
   "cell_type": "markdown",
   "metadata": {},
   "source": [
    "**7-6.** Three Exits: Write different versions of either Exercise 7-4 or Exercise 7-5 \n",
    "that do each of the following at least once:\n",
    "\n",
    "•\t Use a conditional test in the while statement to stop the loop.\\\n",
    "•\t Use an active variable to control how long the loop runs.\\\n",
    "•\t Use a break statement to exit the loop when the user enters a 'quit' value.\n",
    "\n",
    "---\n"
   ]
  },
  {
   "cell_type": "code",
   "execution_count": null,
   "metadata": {},
   "outputs": [],
   "source": [
    "# code here"
   ]
  },
  {
   "cell_type": "code",
   "execution_count": null,
   "metadata": {},
   "outputs": [],
   "source": []
  },
  {
   "attachments": {},
   "cell_type": "markdown",
   "metadata": {},
   "source": [
    "\n",
    "**7-7.** Infinity: Write a loop that never ends, and run it. (To end the loop, press \n",
    "ctrl-C or close the window displaying the output."
   ]
  },
  {
   "cell_type": "code",
   "execution_count": 3,
   "metadata": {},
   "outputs": [],
   "source": [
    "# code here"
   ]
  },
  {
   "cell_type": "code",
   "execution_count": null,
   "metadata": {},
   "outputs": [],
   "source": []
  },
  {
   "attachments": {},
   "cell_type": "markdown",
   "metadata": {},
   "source": [
    "---\n",
    "## Using a while Loop with Lists and Dictionaries\n",
    "---"
   ]
  },
  {
   "attachments": {},
   "cell_type": "markdown",
   "metadata": {},
   "source": [
    "**7-8.** Deli: Make a list called sandwich_orders and fill it with the names of vari\u0002ous sandwiches. Then make an empty list called finished_sandwiches. Loop \n",
    "through the list of sandwich orders and print a message for each order, such \n",
    "as I made your tuna sandwich. As each sandwich is made, move it to the list \n",
    "of finished sandwiches. After all the sandwiches have been made, print a \n",
    "message listing each sandwich that was made."
   ]
  },
  {
   "cell_type": "code",
   "execution_count": 4,
   "metadata": {},
   "outputs": [],
   "source": [
    "# code here"
   ]
  },
  {
   "cell_type": "code",
   "execution_count": null,
   "metadata": {},
   "outputs": [],
   "source": []
  },
  {
   "cell_type": "markdown",
   "metadata": {},
   "source": [
    "\n",
    "7-7. Infinity: Write a loop that never ends, and run it. (To end the loop, press \n",
    "ctrl-C or close the window displaying the output.)"
   ]
  },
  {
   "cell_type": "code",
   "execution_count": 5,
   "metadata": {},
   "outputs": [],
   "source": [
    "# code here"
   ]
  },
  {
   "cell_type": "code",
   "execution_count": null,
   "metadata": {},
   "outputs": [],
   "source": []
  },
  {
   "attachments": {},
   "cell_type": "markdown",
   "metadata": {},
   "source": [
    "**7-9.** No Pastrami: Using the list sandwich_orders from Exercise 7-8, make sure \n",
    "the sandwich 'pastrami' appears in the list at least three times. Add code \n",
    "near the beginning of your program to print a message saying the deli has \n",
    "run out of pastrami, and then use a while loop to remove all occurrences of \n",
    "'pastrami' from sandwich_orders. Make sure no pastrami sandwiches end up \n",
    "in finished_sandwiches."
   ]
  },
  {
   "cell_type": "code",
   "execution_count": 6,
   "metadata": {},
   "outputs": [],
   "source": [
    "# code here"
   ]
  },
  {
   "cell_type": "code",
   "execution_count": null,
   "metadata": {},
   "outputs": [],
   "source": []
  },
  {
   "attachments": {},
   "cell_type": "markdown",
   "metadata": {},
   "source": [
    "**7-10.** Dream Vacation: Write a program that polls users about their dream vaca\u0002tion. Write a prompt similar to If you could visit one place in the world, where \n",
    "would you go? Include a block of code that prints the results of the poll."
   ]
  },
  {
   "cell_type": "code",
   "execution_count": 7,
   "metadata": {},
   "outputs": [],
   "source": [
    "# code here"
   ]
  },
  {
   "cell_type": "code",
   "execution_count": null,
   "metadata": {},
   "outputs": [],
   "source": []
  }
 ],
 "metadata": {
  "kernelspec": {
   "display_name": "base",
   "language": "python",
   "name": "python3"
  },
  "language_info": {
   "codemirror_mode": {
    "name": "ipython",
    "version": 3
   },
   "file_extension": ".py",
   "mimetype": "text/x-python",
   "name": "python",
   "nbconvert_exporter": "python",
   "pygments_lexer": "ipython3",
   "version": "3.9.12"
  },
  "orig_nbformat": 4,
  "vscode": {
   "interpreter": {
    "hash": "2bd6de4a48679b2e291a65267fea1d05377a4a1401728ce8efb4ddfe14914e09"
   }
  }
 },
 "nbformat": 4,
 "nbformat_minor": 2
}
